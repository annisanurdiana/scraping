{
 "cells": [
  {
   "cell_type": "markdown",
   "id": "7e124369",
   "metadata": {},
   "source": [
    "## Web Scraping with Beautiful Soup"
   ]
  },
  {
   "cell_type": "markdown",
   "id": "6ec0b0b6",
   "metadata": {},
   "source": [
    "> Make Database, extract data from web sites and save it to a CSV file"
   ]
  },
  {
   "cell_type": "code",
   "execution_count": 2,
   "id": "00d3c2b1",
   "metadata": {},
   "outputs": [],
   "source": [
    "import re\n",
    "import pandas as pd\n",
    "import urllib.request as ur\n",
    "from bs4 import BeautifulSoup as bs"
   ]
  },
  {
   "cell_type": "code",
   "execution_count": 3,
   "id": "c754a4d8",
   "metadata": {},
   "outputs": [],
   "source": [
    "# load html code from url\n",
    "\n",
    "htmlpage = ur.urlopen(\"https://docs.python.org/3/library/cmath.html\")\n",
    "sp = bs(htmlpage)\n"
   ]
  },
  {
   "cell_type": "code",
   "execution_count": 4,
   "id": "da8e8074",
   "metadata": {},
   "outputs": [
    {
     "name": "stdout",
     "output_type": "stream",
     "text": [
      "['cmath.phase', 'cmath.polar', 'cmath.rect', 'cmath.exp', 'cmath.log', 'cmath.log10', 'cmath.sqrt', 'cmath.acos', 'cmath.asin', 'cmath.atan', 'cmath.cos', 'cmath.sin', 'cmath.tan', 'cmath.acosh', 'cmath.asinh', 'cmath.atanh', 'cmath.cosh', 'cmath.sinh', 'cmath.tanh', 'cmath.isfinite', 'cmath.isinf', 'cmath.isnan', 'cmath.isclose', 'cmath.pi', 'cmath.e', 'cmath.tau', 'cmath.inf', 'cmath.infj', 'cmath.nan', 'cmath.nanj']\n"
     ]
    }
   ],
   "source": [
    "# find all functions names\n",
    "\n",
    "names = sp.body.findAll('dt')\n",
    "function_names = re.findall('id=\"cmath.\\w+', str(names))\n",
    "function_names = [item[4:] for item in function_names]\n",
    "\n",
    "print(function_names)"
   ]
  },
  {
   "cell_type": "code",
   "execution_count": 5,
   "id": "3d3bb18a",
   "metadata": {},
   "outputs": [
    {
     "name": "stdout",
     "output_type": "stream",
     "text": [
      "['Return the phase of x (also known as the argument of x), as a float.  phase(x) is equivalent to math.atan2(x.imag, x.real).  The result lies in the range [-π, π], and the branch cut for this operation lies along the negative real axis, continuous from above.  On systems with support for signed zeros (which includes most systems in current use), this means that the sign of the result is the same as the sign of x.imag, even when x.imag is zero: >>> phase(complex(-1.0, 0.0)) 3.141592653589793 >>> phase(complex(-1.0, -0.0)) -3.141592653589793   ', 'Return the representation of x in polar coordinates.  Returns a pair (r, phi) where r is the modulus of x and phi is the phase of x.  polar(x) is equivalent to (abs(x), phase(x)). ', 'Return the complex number x with polar coordinates r and phi. Equivalent to r * (math.cos(phi) + math.sin(phi)*1j). ', 'Return e raised to the power x, where e is the base of natural logarithms. ', 'Returns the logarithm of x to the given base. If the base is not specified, returns the natural logarithm of x. There is one branch cut, from 0 along the negative real axis to -∞, continuous from above. ', 'Return the base-10 logarithm of x. This has the same branch cut as log(). ', 'Return the square root of x. This has the same branch cut as log(). ', 'Return the arc cosine of x. There are two branch cuts: One extends right from 1 along the real axis to ∞, continuous from below. The other extends left from -1 along the real axis to -∞, continuous from above. ', 'Return the arc sine of x. This has the same branch cuts as acos(). ', 'Return the arc tangent of x. There are two branch cuts: One extends from 1j along the imaginary axis to ∞j, continuous from the right. The other extends from -1j along the imaginary axis to -∞j, continuous from the left. ', 'Return the cosine of x. ', 'Return the sine of x. ', 'Return the tangent of x. ', 'Return the inverse hyperbolic cosine of x. There is one branch cut, extending left from 1 along the real axis to -∞, continuous from above. ', 'Return the inverse hyperbolic sine of x. There are two branch cuts: One extends from 1j along the imaginary axis to ∞j, continuous from the right.  The other extends from -1j along the imaginary axis to -∞j, continuous from the left. ', 'Return the inverse hyperbolic tangent of x. There are two branch cuts: One extends from 1 along the real axis to ∞, continuous from below. The other extends from -1 along the real axis to -∞, continuous from above. ', 'Return the hyperbolic cosine of x. ', 'Return the hyperbolic sine of x. ', 'Return the hyperbolic tangent of x. ', 'Return True if both the real and imaginary parts of x are finite, and False otherwise.  New in version 3.2.  ', 'Return True if either the real or the imaginary part of x is an infinity, and False otherwise. ', 'Return True if either the real or the imaginary part of x is a NaN, and False otherwise. ', 'Return True if the values a and b are close to each other and False otherwise. Whether or not two values are considered close is determined according to given absolute and relative tolerances. rel_tol is the relative tolerance – it is the maximum allowed difference between a and b, relative to the larger absolute value of a or b. For example, to set a tolerance of 5%, pass rel_tol=0.05.  The default tolerance is 1e-09, which assures that the two values are the same within about 9 decimal digits.  rel_tol must be greater than zero. abs_tol is the minimum absolute tolerance – useful for comparisons near zero. abs_tol must be at least zero. If no errors occur, the result will be: abs(a-b) <= max(rel_tol * max(abs(a), abs(b)), abs_tol). The IEEE 754 special values of NaN, inf, and -inf will be handled according to IEEE rules.  Specifically, NaN is not considered close to any other value, including NaN.  inf and -inf are only considered close to themselves.  New in version 3.5.   See also PEP 485 – A function for testing approximate equality  ', 'The mathematical constant π, as a float. ', 'The mathematical constant e, as a float. ', 'The mathematical constant τ, as a float.  New in version 3.6.  ', \"Floating-point positive infinity. Equivalent to float('inf').  New in version 3.6.  \", \"Complex number with zero real part and positive infinity imaginary part. Equivalent to complex(0.0, float('inf')).  New in version 3.6.  \", \"A floating-point “not a number” (NaN) value.  Equivalent to float('nan').  New in version 3.6.  \", \"Complex number with zero real part and NaN imaginary part. Equivalent to complex(0.0, float('nan')).  New in version 3.6.  \"]\n"
     ]
    }
   ],
   "source": [
    "# find all functions description\n",
    "\n",
    "desc = sp.body.findAll('dd')\n",
    "function_usage = []\n",
    "\n",
    "for item in desc:\n",
    "    item = item.text\n",
    "    item = item.replace(\"\\n\", \" \")\n",
    "    function_usage.append(item)\n",
    "\n",
    "print(function_usage)"
   ]
  },
  {
   "cell_type": "code",
   "execution_count": 6,
   "id": "8eaba638",
   "metadata": {},
   "outputs": [
    {
     "name": "stdout",
     "output_type": "stream",
     "text": [
      "30\n",
      "30\n"
     ]
    }
   ],
   "source": [
    "# Check List\n",
    "\n",
    "print(len(function_usage))\n",
    "print(len(function_names))"
   ]
  },
  {
   "cell_type": "code",
   "execution_count": 7,
   "id": "076eb421",
   "metadata": {},
   "outputs": [
    {
     "data": {
      "text/html": [
       "<div>\n",
       "<style scoped>\n",
       "    .dataframe tbody tr th:only-of-type {\n",
       "        vertical-align: middle;\n",
       "    }\n",
       "\n",
       "    .dataframe tbody tr th {\n",
       "        vertical-align: top;\n",
       "    }\n",
       "\n",
       "    .dataframe thead th {\n",
       "        text-align: right;\n",
       "    }\n",
       "</style>\n",
       "<table border=\"1\" class=\"dataframe\">\n",
       "  <thead>\n",
       "    <tr style=\"text-align: right;\">\n",
       "      <th></th>\n",
       "      <th>Function Name</th>\n",
       "      <th>Function Usage</th>\n",
       "    </tr>\n",
       "  </thead>\n",
       "  <tbody>\n",
       "    <tr>\n",
       "      <th>0</th>\n",
       "      <td>cmath.phase</td>\n",
       "      <td>Return the phase of x (also known as the argum...</td>\n",
       "    </tr>\n",
       "    <tr>\n",
       "      <th>1</th>\n",
       "      <td>cmath.polar</td>\n",
       "      <td>Return the representation of x in polar coordi...</td>\n",
       "    </tr>\n",
       "    <tr>\n",
       "      <th>2</th>\n",
       "      <td>cmath.rect</td>\n",
       "      <td>Return the complex number x with polar coordin...</td>\n",
       "    </tr>\n",
       "    <tr>\n",
       "      <th>3</th>\n",
       "      <td>cmath.exp</td>\n",
       "      <td>Return e raised to the power x, where e is the...</td>\n",
       "    </tr>\n",
       "    <tr>\n",
       "      <th>4</th>\n",
       "      <td>cmath.log</td>\n",
       "      <td>Returns the logarithm of x to the given base. ...</td>\n",
       "    </tr>\n",
       "    <tr>\n",
       "      <th>5</th>\n",
       "      <td>cmath.log10</td>\n",
       "      <td>Return the base-10 logarithm of x. This has th...</td>\n",
       "    </tr>\n",
       "    <tr>\n",
       "      <th>6</th>\n",
       "      <td>cmath.sqrt</td>\n",
       "      <td>Return the square root of x. This has the same...</td>\n",
       "    </tr>\n",
       "    <tr>\n",
       "      <th>7</th>\n",
       "      <td>cmath.acos</td>\n",
       "      <td>Return the arc cosine of x. There are two bran...</td>\n",
       "    </tr>\n",
       "    <tr>\n",
       "      <th>8</th>\n",
       "      <td>cmath.asin</td>\n",
       "      <td>Return the arc sine of x. This has the same br...</td>\n",
       "    </tr>\n",
       "    <tr>\n",
       "      <th>9</th>\n",
       "      <td>cmath.atan</td>\n",
       "      <td>Return the arc tangent of x. There are two bra...</td>\n",
       "    </tr>\n",
       "    <tr>\n",
       "      <th>10</th>\n",
       "      <td>cmath.cos</td>\n",
       "      <td>Return the cosine of x.</td>\n",
       "    </tr>\n",
       "    <tr>\n",
       "      <th>11</th>\n",
       "      <td>cmath.sin</td>\n",
       "      <td>Return the sine of x.</td>\n",
       "    </tr>\n",
       "    <tr>\n",
       "      <th>12</th>\n",
       "      <td>cmath.tan</td>\n",
       "      <td>Return the tangent of x.</td>\n",
       "    </tr>\n",
       "    <tr>\n",
       "      <th>13</th>\n",
       "      <td>cmath.acosh</td>\n",
       "      <td>Return the inverse hyperbolic cosine of x. The...</td>\n",
       "    </tr>\n",
       "    <tr>\n",
       "      <th>14</th>\n",
       "      <td>cmath.asinh</td>\n",
       "      <td>Return the inverse hyperbolic sine of x. There...</td>\n",
       "    </tr>\n",
       "    <tr>\n",
       "      <th>15</th>\n",
       "      <td>cmath.atanh</td>\n",
       "      <td>Return the inverse hyperbolic tangent of x. Th...</td>\n",
       "    </tr>\n",
       "    <tr>\n",
       "      <th>16</th>\n",
       "      <td>cmath.cosh</td>\n",
       "      <td>Return the hyperbolic cosine of x.</td>\n",
       "    </tr>\n",
       "    <tr>\n",
       "      <th>17</th>\n",
       "      <td>cmath.sinh</td>\n",
       "      <td>Return the hyperbolic sine of x.</td>\n",
       "    </tr>\n",
       "    <tr>\n",
       "      <th>18</th>\n",
       "      <td>cmath.tanh</td>\n",
       "      <td>Return the hyperbolic tangent of x.</td>\n",
       "    </tr>\n",
       "    <tr>\n",
       "      <th>19</th>\n",
       "      <td>cmath.isfinite</td>\n",
       "      <td>Return True if both the real and imaginary par...</td>\n",
       "    </tr>\n",
       "    <tr>\n",
       "      <th>20</th>\n",
       "      <td>cmath.isinf</td>\n",
       "      <td>Return True if either the real or the imaginar...</td>\n",
       "    </tr>\n",
       "    <tr>\n",
       "      <th>21</th>\n",
       "      <td>cmath.isnan</td>\n",
       "      <td>Return True if either the real or the imaginar...</td>\n",
       "    </tr>\n",
       "    <tr>\n",
       "      <th>22</th>\n",
       "      <td>cmath.isclose</td>\n",
       "      <td>Return True if the values a and b are close to...</td>\n",
       "    </tr>\n",
       "    <tr>\n",
       "      <th>23</th>\n",
       "      <td>cmath.pi</td>\n",
       "      <td>The mathematical constant π, as a float.</td>\n",
       "    </tr>\n",
       "    <tr>\n",
       "      <th>24</th>\n",
       "      <td>cmath.e</td>\n",
       "      <td>The mathematical constant e, as a float.</td>\n",
       "    </tr>\n",
       "    <tr>\n",
       "      <th>25</th>\n",
       "      <td>cmath.tau</td>\n",
       "      <td>The mathematical constant τ, as a float.  New ...</td>\n",
       "    </tr>\n",
       "    <tr>\n",
       "      <th>26</th>\n",
       "      <td>cmath.inf</td>\n",
       "      <td>Floating-point positive infinity. Equivalent t...</td>\n",
       "    </tr>\n",
       "    <tr>\n",
       "      <th>27</th>\n",
       "      <td>cmath.infj</td>\n",
       "      <td>Complex number with zero real part and positiv...</td>\n",
       "    </tr>\n",
       "    <tr>\n",
       "      <th>28</th>\n",
       "      <td>cmath.nan</td>\n",
       "      <td>A floating-point “not a number” (NaN) value.  ...</td>\n",
       "    </tr>\n",
       "    <tr>\n",
       "      <th>29</th>\n",
       "      <td>cmath.nanj</td>\n",
       "      <td>Complex number with zero real part and NaN ima...</td>\n",
       "    </tr>\n",
       "  </tbody>\n",
       "</table>\n",
       "</div>"
      ],
      "text/plain": [
       "     Function Name                                     Function Usage\n",
       "0      cmath.phase  Return the phase of x (also known as the argum...\n",
       "1      cmath.polar  Return the representation of x in polar coordi...\n",
       "2       cmath.rect  Return the complex number x with polar coordin...\n",
       "3        cmath.exp  Return e raised to the power x, where e is the...\n",
       "4        cmath.log  Returns the logarithm of x to the given base. ...\n",
       "5      cmath.log10  Return the base-10 logarithm of x. This has th...\n",
       "6       cmath.sqrt  Return the square root of x. This has the same...\n",
       "7       cmath.acos  Return the arc cosine of x. There are two bran...\n",
       "8       cmath.asin  Return the arc sine of x. This has the same br...\n",
       "9       cmath.atan  Return the arc tangent of x. There are two bra...\n",
       "10       cmath.cos                           Return the cosine of x. \n",
       "11       cmath.sin                             Return the sine of x. \n",
       "12       cmath.tan                          Return the tangent of x. \n",
       "13     cmath.acosh  Return the inverse hyperbolic cosine of x. The...\n",
       "14     cmath.asinh  Return the inverse hyperbolic sine of x. There...\n",
       "15     cmath.atanh  Return the inverse hyperbolic tangent of x. Th...\n",
       "16      cmath.cosh                Return the hyperbolic cosine of x. \n",
       "17      cmath.sinh                  Return the hyperbolic sine of x. \n",
       "18      cmath.tanh               Return the hyperbolic tangent of x. \n",
       "19  cmath.isfinite  Return True if both the real and imaginary par...\n",
       "20     cmath.isinf  Return True if either the real or the imaginar...\n",
       "21     cmath.isnan  Return True if either the real or the imaginar...\n",
       "22   cmath.isclose  Return True if the values a and b are close to...\n",
       "23        cmath.pi          The mathematical constant π, as a float. \n",
       "24         cmath.e          The mathematical constant e, as a float. \n",
       "25       cmath.tau  The mathematical constant τ, as a float.  New ...\n",
       "26       cmath.inf  Floating-point positive infinity. Equivalent t...\n",
       "27      cmath.infj  Complex number with zero real part and positiv...\n",
       "28       cmath.nan  A floating-point “not a number” (NaN) value.  ...\n",
       "29      cmath.nanj  Complex number with zero real part and NaN ima..."
      ]
     },
     "execution_count": 7,
     "metadata": {},
     "output_type": "execute_result"
    }
   ],
   "source": [
    "# Create dataframe\n",
    "\n",
    "df = pd.DataFrame({'Function Name': function_names, 'Function Usage':function_usage})\n",
    "df"
   ]
  },
  {
   "cell_type": "code",
   "execution_count": 8,
   "id": "1e7e2cc1",
   "metadata": {},
   "outputs": [],
   "source": [
    "# save the file as csv\n",
    "\n",
    "df.to_csv(\"cmath.csv\")"
   ]
  }
 ],
 "metadata": {
  "kernelspec": {
   "display_name": "Python 3",
   "language": "python",
   "name": "python3"
  },
  "language_info": {
   "codemirror_mode": {
    "name": "ipython",
    "version": 3
   },
   "file_extension": ".py",
   "mimetype": "text/x-python",
   "name": "python",
   "nbconvert_exporter": "python",
   "pygments_lexer": "ipython3",
   "version": "3.8.8"
  }
 },
 "nbformat": 4,
 "nbformat_minor": 5
}
