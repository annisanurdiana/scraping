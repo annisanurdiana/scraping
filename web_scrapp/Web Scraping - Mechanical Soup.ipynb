{
 "cells": [
  {
   "cell_type": "markdown",
   "id": "59c627d5",
   "metadata": {},
   "source": [
    "## Web Scraping with Mechanical Soup"
   ]
  },
  {
   "cell_type": "markdown",
   "id": "73d309f7",
   "metadata": {},
   "source": [
    "> Build a Database of House and Offices Photos Automatically"
   ]
  },
  {
   "cell_type": "code",
   "execution_count": 13,
   "id": "9c190a0d",
   "metadata": {},
   "outputs": [
    {
     "name": "stdout",
     "output_type": "stream",
     "text": [
      "https://images.google.com/\n"
     ]
    }
   ],
   "source": [
    "import mechanicalsoup as ms\n",
    "\n",
    "browser = ms.StatefulBrowser()\n",
    "url = \"https://images.google.com/\"\n",
    "\n",
    "browser.open(url)\n",
    "print(browser.get_url())"
   ]
  },
  {
   "cell_type": "code",
   "execution_count": 14,
   "id": "00f9952a",
   "metadata": {},
   "outputs": [
    {
     "name": "stdout",
     "output_type": "stream",
     "text": [
      "<input name=\"tbm\" type=\"hidden\" value=\"isch\"/>\n",
      "<input name=\"ie\" type=\"hidden\" value=\"ISO-8859-1\"/>\n",
      "<input name=\"hl\" type=\"hidden\" value=\"id\"/>\n",
      "<input name=\"source\" type=\"hidden\" value=\"hp\"/>\n",
      "<input name=\"biw\" type=\"hidden\"/>\n",
      "<input name=\"bih\" type=\"hidden\"/>\n",
      "<input autocomplete=\"off\" class=\"lst tiah\" maxlength=\"2048\" name=\"q\" size=\"57\" style=\"margin:0;padding:5px 8px 0 6px;vertical-align:top;color:#000;padding-right:38px\" title=\"Telusuri Gambar\" value=\"\"/>\n",
      "<input class=\"lsb\" name=\"btnG\" type=\"submit\" value=\"Telusuri Gambar\"/>\n",
      "<input id=\"gbv\" name=\"gbv\" type=\"hidden\" value=\"1\"/>\n",
      "new url: https://www.google.com/search?tbm=isch&ie=ISO-8859-1&hl=id&source=hp&biw=&bih=&q=office&btnG=Telusuri+Gambar&gbv=1\n",
      "my response:\n",
      " <!DOCTYPE html PUBLIC \"-//WAPFORUM//DTD XHTML Mobile 1.0//EN\" \"http://www.wapforum.org/DTD/xhtml-mobile10.dtd\"><html xmlns=\"http://www.w3.org/1999/xhtml\" lang=\"id\"><head><meta content=\"application/xhtml+xml; charset=UTF-8\" http-equiv=\"Content-Type\"/><meta content=\"no-cache\" name=\"Cache-Control\"/><title>office - Penelusuran Google</title><style>a{text-decoration:none;color:inherit}a:hover{text-decoration:underline}a img{border:0}body{font-family:Roboto,Helvetica,Arial,sans-serif;padding:8px;margi\n"
     ]
    }
   ],
   "source": [
    "# get HTML\n",
    "browser.get_current_page()\n",
    "\n",
    "# target the search input\n",
    "browser.select_form()\n",
    "browser.get_current_form().print_summary()\n",
    "\n",
    "# search for a term\n",
    "search_term = \"office\"\n",
    "browser[\"q\"] = search_term\n",
    "\n",
    "# submit search\n",
    "browser.launch_browser()\n",
    "response = browser.submit_selected()\n",
    "\n",
    "print(\"new url:\", browser.get_url())\n",
    "print(\"my response:\\n\", response.text[:500])"
   ]
  },
  {
   "cell_type": "code",
   "execution_count": 15,
   "id": "4b8b336c",
   "metadata": {},
   "outputs": [
    {
     "data": {
      "text/plain": [
       "<Response [200]>"
      ]
     },
     "execution_count": 15,
     "metadata": {},
     "output_type": "execute_result"
    }
   ],
   "source": [
    "# open new url\n",
    "new_url = browser.get_url()\n",
    "browser.open(new_url)"
   ]
  },
  {
   "cell_type": "code",
   "execution_count": 16,
   "id": "30423d0b",
   "metadata": {},
   "outputs": [
    {
     "data": {
      "text/plain": [
       "[<img alt=\"Google\" class=\"kgJEQe\" src=\"/images/branding/searchlogo/1x/googlelogo_desk_heirloom_color_150x55dp.gif\"/>,\n",
       " <img alt=\"\" class=\"yWs4tf\" src=\"https://encrypted-tbn0.gstatic.com/images?q=tbn:ANd9GcRIVArSGPi8MDZitp_uc79ptLhg6lA2Lc6p8fMGppGELDDvzEPr3y6CuRzhyfI&amp;s\"/>,\n",
       " <img alt=\"\" class=\"yWs4tf\" src=\"https://encrypted-tbn0.gstatic.com/images?q=tbn:ANd9GcTeaFYJjeoc3Fm1TR-2SUxU3PHeb4eLc3vXLvOM5ZbkAasQslENAX4_dCVNzmE&amp;s\"/>,\n",
       " <img alt=\"\" class=\"yWs4tf\" src=\"https://encrypted-tbn0.gstatic.com/images?q=tbn:ANd9GcTrgB9nlN2zZiXgV-My4UeS6p42X74gxgomeHOl0nfxqLmMFmloqxQ5dQ0B2-s&amp;s\"/>,\n",
       " <img alt=\"\" class=\"yWs4tf\" src=\"https://encrypted-tbn0.gstatic.com/images?q=tbn:ANd9GcRWXOQ2Bf50RLW6UWigQpuVIFTIGMKnLfRVITQmTwT1IIJTfheOTXGDlZCBV6M&amp;s\"/>,\n",
       " <img alt=\"\" class=\"yWs4tf\" src=\"https://encrypted-tbn0.gstatic.com/images?q=tbn:ANd9GcTomST8obcYY0gzGOhboi10kF9dGo-9qx0d277S8KUbh5tul_tXQnAT-WQGXxM&amp;s\"/>,\n",
       " <img alt=\"\" class=\"yWs4tf\" src=\"https://encrypted-tbn0.gstatic.com/images?q=tbn:ANd9GcTVPrychlgIgyR8RXjYHuSQqvHUFhmR9aihIw6os8X8fQbinFb0z6ZoD-x_oQ&amp;s\"/>,\n",
       " <img alt=\"\" class=\"yWs4tf\" src=\"https://encrypted-tbn0.gstatic.com/images?q=tbn:ANd9GcTTvy_zbUO2tAJhLX28DKyN6M0NRxBI0fhXDUJEP5e0qz0_yPGJJ6R2khR1k1A&amp;s\"/>,\n",
       " <img alt=\"\" class=\"yWs4tf\" src=\"https://encrypted-tbn0.gstatic.com/images?q=tbn:ANd9GcSoAvzivcyaoIE9-zzmhHLHzCKSdpjvtnOF5n_dO2cIu5U7iRPoEZ9XWJ8mBSE&amp;s\"/>,\n",
       " <img alt=\"\" class=\"yWs4tf\" src=\"https://encrypted-tbn0.gstatic.com/images?q=tbn:ANd9GcTOgR-5bddXPCD4OuQjtrubPvx8UC4cRLs_G_p36aPHIJMmTA-quccmv13RZDQ&amp;s\"/>,\n",
       " <img alt=\"\" class=\"yWs4tf\" src=\"https://encrypted-tbn0.gstatic.com/images?q=tbn:ANd9GcR1nXXuWUHXc7hPBnEtj_rFHWk8Q4xX_9c-BMdMLOSNyOmYanRInms8fifAbg&amp;s\"/>,\n",
       " <img alt=\"\" class=\"yWs4tf\" src=\"https://encrypted-tbn0.gstatic.com/images?q=tbn:ANd9GcTV5Z9qEVEvdbWF17UR_3WDfyHjsqOpp2Lgvp5iqP9AfCoOJI_2fiktFs6w6g&amp;s\"/>,\n",
       " <img alt=\"\" class=\"yWs4tf\" src=\"https://encrypted-tbn0.gstatic.com/images?q=tbn:ANd9GcQ4QagDURRQ9puLQAfeXIGvjy0u2rPfPM8F88HWmnCbT8jO2ogv2BAAismKPw&amp;s\"/>,\n",
       " <img alt=\"\" class=\"yWs4tf\" src=\"https://encrypted-tbn0.gstatic.com/images?q=tbn:ANd9GcQBzAl7-KCbP5urx7JlV-aunsm8AK7qq67n8xvwNqKUacFIB8F2t-eHeJeijQ&amp;s\"/>,\n",
       " <img alt=\"\" class=\"yWs4tf\" src=\"https://encrypted-tbn0.gstatic.com/images?q=tbn:ANd9GcT5Uj8H5hrwZExP2IJ8dtzT5Yvm1-ljUr701CtBsYQV-bC0cxc_odass2pBuNU&amp;s\"/>,\n",
       " <img alt=\"\" class=\"yWs4tf\" src=\"https://encrypted-tbn0.gstatic.com/images?q=tbn:ANd9GcQ1rxxQEzEu4pq4TImZ82ip7Ds9cyvFd9TLwLRogvukPqpRwzVRuaYR_RxlhTs&amp;s\"/>,\n",
       " <img alt=\"\" class=\"yWs4tf\" src=\"https://encrypted-tbn0.gstatic.com/images?q=tbn:ANd9GcQ3CMkves7rEFaljJIgvEcdmk-aLnv7cULl1lAszcfCrD663VFee5LTM-IX2g&amp;s\"/>,\n",
       " <img alt=\"\" class=\"yWs4tf\" src=\"https://encrypted-tbn0.gstatic.com/images?q=tbn:ANd9GcSPiuBdGtuwdQ8Xpqwjxu25ul7A4imH7H15jIWR8RWxshql0FFuDbs1xTnRJw&amp;s\"/>,\n",
       " <img alt=\"\" class=\"yWs4tf\" src=\"https://encrypted-tbn0.gstatic.com/images?q=tbn:ANd9GcQEHkceEnYeLBpwVNV9OLmpKnRshPTEccB4K9_SAb7XyAxu01LyA_sSQfOkyuk&amp;s\"/>,\n",
       " <img alt=\"\" class=\"yWs4tf\" src=\"https://encrypted-tbn0.gstatic.com/images?q=tbn:ANd9GcR5T55NTzI6gN9qTQW9804H-m1LLFhJToSDplSZoWCTdVY9TVOc43AJ_4eslQ&amp;s\"/>,\n",
       " <img alt=\"\" class=\"yWs4tf\" src=\"https://encrypted-tbn0.gstatic.com/images?q=tbn:ANd9GcTFMb5z3PL1fP8UBVRvtIKTo1xERHbCBi0hoVezAUPGNwp1YpbzGzajm-NUJsQ&amp;s\"/>]"
      ]
     },
     "execution_count": 16,
     "metadata": {},
     "output_type": "execute_result"
    }
   ],
   "source": [
    "# get HTML\n",
    "page = browser.get_current_page()\n",
    "all_images = page.find_all(\"img\")\n",
    "\n",
    "all_images"
   ]
  },
  {
   "cell_type": "code",
   "execution_count": 17,
   "id": "e17e4e0c",
   "metadata": {},
   "outputs": [
    {
     "data": {
      "text/plain": [
       "['/images/branding/searchlogo/1x/googlelogo_desk_heirloom_color_150x55dp.gif',\n",
       " 'https://encrypted-tbn0.gstatic.com/images?q=tbn:ANd9GcRIVArSGPi8MDZitp_uc79ptLhg6lA2Lc6p8fMGppGELDDvzEPr3y6CuRzhyfI&s',\n",
       " 'https://encrypted-tbn0.gstatic.com/images?q=tbn:ANd9GcTeaFYJjeoc3Fm1TR-2SUxU3PHeb4eLc3vXLvOM5ZbkAasQslENAX4_dCVNzmE&s',\n",
       " 'https://encrypted-tbn0.gstatic.com/images?q=tbn:ANd9GcTrgB9nlN2zZiXgV-My4UeS6p42X74gxgomeHOl0nfxqLmMFmloqxQ5dQ0B2-s&s',\n",
       " 'https://encrypted-tbn0.gstatic.com/images?q=tbn:ANd9GcRWXOQ2Bf50RLW6UWigQpuVIFTIGMKnLfRVITQmTwT1IIJTfheOTXGDlZCBV6M&s',\n",
       " 'https://encrypted-tbn0.gstatic.com/images?q=tbn:ANd9GcTomST8obcYY0gzGOhboi10kF9dGo-9qx0d277S8KUbh5tul_tXQnAT-WQGXxM&s',\n",
       " 'https://encrypted-tbn0.gstatic.com/images?q=tbn:ANd9GcTVPrychlgIgyR8RXjYHuSQqvHUFhmR9aihIw6os8X8fQbinFb0z6ZoD-x_oQ&s',\n",
       " 'https://encrypted-tbn0.gstatic.com/images?q=tbn:ANd9GcTTvy_zbUO2tAJhLX28DKyN6M0NRxBI0fhXDUJEP5e0qz0_yPGJJ6R2khR1k1A&s',\n",
       " 'https://encrypted-tbn0.gstatic.com/images?q=tbn:ANd9GcSoAvzivcyaoIE9-zzmhHLHzCKSdpjvtnOF5n_dO2cIu5U7iRPoEZ9XWJ8mBSE&s',\n",
       " 'https://encrypted-tbn0.gstatic.com/images?q=tbn:ANd9GcTOgR-5bddXPCD4OuQjtrubPvx8UC4cRLs_G_p36aPHIJMmTA-quccmv13RZDQ&s',\n",
       " 'https://encrypted-tbn0.gstatic.com/images?q=tbn:ANd9GcR1nXXuWUHXc7hPBnEtj_rFHWk8Q4xX_9c-BMdMLOSNyOmYanRInms8fifAbg&s',\n",
       " 'https://encrypted-tbn0.gstatic.com/images?q=tbn:ANd9GcTV5Z9qEVEvdbWF17UR_3WDfyHjsqOpp2Lgvp5iqP9AfCoOJI_2fiktFs6w6g&s',\n",
       " 'https://encrypted-tbn0.gstatic.com/images?q=tbn:ANd9GcQ4QagDURRQ9puLQAfeXIGvjy0u2rPfPM8F88HWmnCbT8jO2ogv2BAAismKPw&s',\n",
       " 'https://encrypted-tbn0.gstatic.com/images?q=tbn:ANd9GcQBzAl7-KCbP5urx7JlV-aunsm8AK7qq67n8xvwNqKUacFIB8F2t-eHeJeijQ&s',\n",
       " 'https://encrypted-tbn0.gstatic.com/images?q=tbn:ANd9GcT5Uj8H5hrwZExP2IJ8dtzT5Yvm1-ljUr701CtBsYQV-bC0cxc_odass2pBuNU&s',\n",
       " 'https://encrypted-tbn0.gstatic.com/images?q=tbn:ANd9GcQ1rxxQEzEu4pq4TImZ82ip7Ds9cyvFd9TLwLRogvukPqpRwzVRuaYR_RxlhTs&s',\n",
       " 'https://encrypted-tbn0.gstatic.com/images?q=tbn:ANd9GcQ3CMkves7rEFaljJIgvEcdmk-aLnv7cULl1lAszcfCrD663VFee5LTM-IX2g&s',\n",
       " 'https://encrypted-tbn0.gstatic.com/images?q=tbn:ANd9GcSPiuBdGtuwdQ8Xpqwjxu25ul7A4imH7H15jIWR8RWxshql0FFuDbs1xTnRJw&s',\n",
       " 'https://encrypted-tbn0.gstatic.com/images?q=tbn:ANd9GcQEHkceEnYeLBpwVNV9OLmpKnRshPTEccB4K9_SAb7XyAxu01LyA_sSQfOkyuk&s',\n",
       " 'https://encrypted-tbn0.gstatic.com/images?q=tbn:ANd9GcR5T55NTzI6gN9qTQW9804H-m1LLFhJToSDplSZoWCTdVY9TVOc43AJ_4eslQ&s',\n",
       " 'https://encrypted-tbn0.gstatic.com/images?q=tbn:ANd9GcTFMb5z3PL1fP8UBVRvtIKTo1xERHbCBi0hoVezAUPGNwp1YpbzGzajm-NUJsQ&s']"
      ]
     },
     "execution_count": 17,
     "metadata": {},
     "output_type": "execute_result"
    }
   ],
   "source": [
    "# target the source attributes\n",
    "\n",
    "image_source = []\n",
    "\n",
    "for image in all_images:\n",
    "    image = image.get(\"src\")\n",
    "    image_source.append(image)\n",
    "    \n",
    "image_source"
   ]
  },
  {
   "cell_type": "code",
   "execution_count": 18,
   "id": "dc2f64bd",
   "metadata": {},
   "outputs": [
    {
     "data": {
      "text/plain": [
       "['https://encrypted-tbn0.gstatic.com/images?q=tbn:ANd9GcRIVArSGPi8MDZitp_uc79ptLhg6lA2Lc6p8fMGppGELDDvzEPr3y6CuRzhyfI&s',\n",
       " 'https://encrypted-tbn0.gstatic.com/images?q=tbn:ANd9GcTeaFYJjeoc3Fm1TR-2SUxU3PHeb4eLc3vXLvOM5ZbkAasQslENAX4_dCVNzmE&s',\n",
       " 'https://encrypted-tbn0.gstatic.com/images?q=tbn:ANd9GcTrgB9nlN2zZiXgV-My4UeS6p42X74gxgomeHOl0nfxqLmMFmloqxQ5dQ0B2-s&s',\n",
       " 'https://encrypted-tbn0.gstatic.com/images?q=tbn:ANd9GcRWXOQ2Bf50RLW6UWigQpuVIFTIGMKnLfRVITQmTwT1IIJTfheOTXGDlZCBV6M&s',\n",
       " 'https://encrypted-tbn0.gstatic.com/images?q=tbn:ANd9GcTomST8obcYY0gzGOhboi10kF9dGo-9qx0d277S8KUbh5tul_tXQnAT-WQGXxM&s',\n",
       " 'https://encrypted-tbn0.gstatic.com/images?q=tbn:ANd9GcTVPrychlgIgyR8RXjYHuSQqvHUFhmR9aihIw6os8X8fQbinFb0z6ZoD-x_oQ&s',\n",
       " 'https://encrypted-tbn0.gstatic.com/images?q=tbn:ANd9GcTTvy_zbUO2tAJhLX28DKyN6M0NRxBI0fhXDUJEP5e0qz0_yPGJJ6R2khR1k1A&s',\n",
       " 'https://encrypted-tbn0.gstatic.com/images?q=tbn:ANd9GcSoAvzivcyaoIE9-zzmhHLHzCKSdpjvtnOF5n_dO2cIu5U7iRPoEZ9XWJ8mBSE&s',\n",
       " 'https://encrypted-tbn0.gstatic.com/images?q=tbn:ANd9GcTOgR-5bddXPCD4OuQjtrubPvx8UC4cRLs_G_p36aPHIJMmTA-quccmv13RZDQ&s',\n",
       " 'https://encrypted-tbn0.gstatic.com/images?q=tbn:ANd9GcR1nXXuWUHXc7hPBnEtj_rFHWk8Q4xX_9c-BMdMLOSNyOmYanRInms8fifAbg&s',\n",
       " 'https://encrypted-tbn0.gstatic.com/images?q=tbn:ANd9GcTV5Z9qEVEvdbWF17UR_3WDfyHjsqOpp2Lgvp5iqP9AfCoOJI_2fiktFs6w6g&s',\n",
       " 'https://encrypted-tbn0.gstatic.com/images?q=tbn:ANd9GcQ4QagDURRQ9puLQAfeXIGvjy0u2rPfPM8F88HWmnCbT8jO2ogv2BAAismKPw&s',\n",
       " 'https://encrypted-tbn0.gstatic.com/images?q=tbn:ANd9GcQBzAl7-KCbP5urx7JlV-aunsm8AK7qq67n8xvwNqKUacFIB8F2t-eHeJeijQ&s',\n",
       " 'https://encrypted-tbn0.gstatic.com/images?q=tbn:ANd9GcT5Uj8H5hrwZExP2IJ8dtzT5Yvm1-ljUr701CtBsYQV-bC0cxc_odass2pBuNU&s',\n",
       " 'https://encrypted-tbn0.gstatic.com/images?q=tbn:ANd9GcQ1rxxQEzEu4pq4TImZ82ip7Ds9cyvFd9TLwLRogvukPqpRwzVRuaYR_RxlhTs&s',\n",
       " 'https://encrypted-tbn0.gstatic.com/images?q=tbn:ANd9GcQ3CMkves7rEFaljJIgvEcdmk-aLnv7cULl1lAszcfCrD663VFee5LTM-IX2g&s',\n",
       " 'https://encrypted-tbn0.gstatic.com/images?q=tbn:ANd9GcSPiuBdGtuwdQ8Xpqwjxu25ul7A4imH7H15jIWR8RWxshql0FFuDbs1xTnRJw&s',\n",
       " 'https://encrypted-tbn0.gstatic.com/images?q=tbn:ANd9GcQEHkceEnYeLBpwVNV9OLmpKnRshPTEccB4K9_SAb7XyAxu01LyA_sSQfOkyuk&s',\n",
       " 'https://encrypted-tbn0.gstatic.com/images?q=tbn:ANd9GcR5T55NTzI6gN9qTQW9804H-m1LLFhJToSDplSZoWCTdVY9TVOc43AJ_4eslQ&s',\n",
       " 'https://encrypted-tbn0.gstatic.com/images?q=tbn:ANd9GcTFMb5z3PL1fP8UBVRvtIKTo1xERHbCBi0hoVezAUPGNwp1YpbzGzajm-NUJsQ&s']"
      ]
     },
     "execution_count": 18,
     "metadata": {},
     "output_type": "execute_result"
    }
   ],
   "source": [
    "image_source = [image for image in image_source if image.startswith(\"https\")]\n",
    "image_source"
   ]
  },
  {
   "cell_type": "code",
   "execution_count": 19,
   "id": "bd9ea528",
   "metadata": {},
   "outputs": [
    {
     "data": {
      "text/plain": [
       "'C:\\\\Users\\\\Annisa Nurdiana\\\\Documents\\\\Data D\\\\Algoritma\\\\1Class\\\\Projects\\\\web_scrapp\\\\offices'"
      ]
     },
     "execution_count": 19,
     "metadata": {},
     "output_type": "execute_result"
    }
   ],
   "source": [
    "import os\n",
    "import wget\n",
    "\n",
    "path = os.getcwd()\n",
    "path = os.path.join(path, search_term+\"s\")\n",
    "\n",
    "#create directory\n",
    "os.mkdir(path)\n",
    "\n",
    "path"
   ]
  },
  {
   "cell_type": "code",
   "execution_count": 20,
   "id": "46c98684",
   "metadata": {},
   "outputs": [
    {
     "name": "stdout",
     "output_type": "stream",
     "text": [
      "100% [................................................................................] 5488 / 5488"
     ]
    }
   ],
   "source": [
    "# download images\n",
    "\n",
    "counter = 0\n",
    "\n",
    "for image in image_source:\n",
    "    save_as = os.path.join(path, search_term+str(counter)+\".png\")\n",
    "    wget.download(image, save_as)\n",
    "    counter += 1"
   ]
  },
  {
   "cell_type": "code",
   "execution_count": null,
   "id": "59369488",
   "metadata": {},
   "outputs": [],
   "source": []
  }
 ],
 "metadata": {
  "kernelspec": {
   "display_name": "sparta_da",
   "language": "python",
   "name": "sparta_da"
  },
  "language_info": {
   "codemirror_mode": {
    "name": "ipython",
    "version": 3
   },
   "file_extension": ".py",
   "mimetype": "text/x-python",
   "name": "python",
   "nbconvert_exporter": "python",
   "pygments_lexer": "ipython3",
   "version": "3.9.12"
  }
 },
 "nbformat": 4,
 "nbformat_minor": 5
}
